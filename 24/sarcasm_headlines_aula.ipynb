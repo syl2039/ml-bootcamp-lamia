{
 "cells": [
  {
   "cell_type": "code",
   "execution_count": 1,
   "metadata": {},
   "outputs": [],
   "source": [
    "# Importações necessárias\n",
    "import json\n",
    "from tensorflow.keras.preprocessing.text import Tokenizer\n",
    "from tensorflow.keras.preprocessing.sequence import pad_sequences\n",
    "import numpy as np\n",
    "import tensorflow as tf"
   ]
  },
  {
   "cell_type": "code",
   "execution_count": 2,
   "metadata": {},
   "outputs": [],
   "source": [
    "# Carregamento do arquivoo\n",
    "with open (\"Sarcasm_Headlines_Dataset.json\", 'r') as f:\n",
    "    datastore = json.load(f)"
   ]
  },
  {
   "cell_type": "code",
   "execution_count": 3,
   "metadata": {},
   "outputs": [],
   "source": [
    "# Constantes\n",
    "vocab_size = 10000\n",
    "embedding_dim = 16\n",
    "max_length = 100\n",
    "trunc_type='post'\n",
    "padding_type='post'\n",
    "oov_tok = \"<OOV>\"\n",
    "training_size = 20000"
   ]
  },
  {
   "cell_type": "code",
   "execution_count": 4,
   "metadata": {},
   "outputs": [],
   "source": [
    "# Listas vazias\n",
    "sentences = []\n",
    "labels = []\n",
    "\n",
    "# Percorre o arquivo e vai preenchendo as listas\n",
    "for item in datastore:\n",
    "    sentences.append(item['headline']) # Adiciona a lista\n",
    "    labels.append(item['is_sarcastic']) # Adiciona a lista"
   ]
  },
  {
   "cell_type": "code",
   "execution_count": 5,
   "metadata": {},
   "outputs": [],
   "source": [
    "training_sentences = sentences[0:training_size] # frases para treinamento\n",
    "testing_sentences = sentences[training_size:] # frases para teste\n",
    "training_labels = labels[0:training_size] # labels para treinamento\n",
    "testing_labels = labels[training_size:] # labels para teste"
   ]
  },
  {
   "cell_type": "code",
   "execution_count": 6,
   "metadata": {},
   "outputs": [],
   "source": [
    "tokenizer = Tokenizer(num_words=vocab_size, oov_token=oov_tok)\n",
    "tokenizer.fit_on_texts(training_sentences)\n",
    "\n",
    "word_index = tokenizer.word_index\n",
    "\n",
    "training_sequences = tokenizer.texts_to_sequences(training_sentences) # Atribuindo o tokenizer\n",
    "training_padded = pad_sequences(training_sequences, maxlen=max_length, padding=padding_type, truncating=trunc_type) # Adiciona os zeros para todas ficarem  com o mesmo tamanho\n",
    "\n",
    "testing_sequences = tokenizer.texts_to_sequences(testing_sentences) # Atribuindo o tokenizer\n",
    "testing_padded = pad_sequences(testing_sequences, maxlen=max_length, padding=padding_type, truncating=trunc_type) # Adiciona os zeros para todas ficarem  com o mesmo tamanho\n"
   ]
  },
  {
   "cell_type": "code",
   "execution_count": 7,
   "metadata": {},
   "outputs": [],
   "source": [
    "# Transformação para que fique compatível com o tensorflow\n",
    "training_labels = np.array(training_labels)\n",
    "testing_labels = np.array(testing_labels)\n",
    "training_padded = np.array(training_padded)\n",
    "testing_padded = np.array(testing_padded)\n"
   ]
  },
  {
   "cell_type": "code",
   "execution_count": 8,
   "metadata": {},
   "outputs": [
    {
     "name": "stderr",
     "output_type": "stream",
     "text": [
      "C:\\Users\\Fernando Buligon\\AppData\\Local\\Packages\\PythonSoftwareFoundation.Python.3.11_qbz5n2kfra8p0\\LocalCache\\local-packages\\Python311\\site-packages\\keras\\src\\layers\\core\\embedding.py:90: UserWarning: Argument `input_length` is deprecated. Just remove it.\n",
      "  warnings.warn(\n"
     ]
    }
   ],
   "source": [
    "# Criação do modelo\n",
    "model = tf.keras.Sequential([\n",
    "    tf.keras.layers.Embedding(vocab_size, embedding_dim, input_length=max_length), # camada de embedding\n",
    "    tf.keras.layers.GlobalAveragePooling1D(), # camade de pooling\n",
    "    tf.keras.layers.Dense(24, activation='relu'), # camada densa 2\n",
    "    tf.keras.layers.Dense(1, activation='sigmoid') # camada densa 1\n",
    "])"
   ]
  },
  {
   "cell_type": "code",
   "execution_count": 9,
   "metadata": {},
   "outputs": [
    {
     "data": {
      "text/html": [
       "<pre style=\"white-space:pre;overflow-x:auto;line-height:normal;font-family:Menlo,'DejaVu Sans Mono',consolas,'Courier New',monospace\"><span style=\"font-weight: bold\">Model: \"sequential\"</span>\n",
       "</pre>\n"
      ],
      "text/plain": [
       "\u001b[1mModel: \"sequential\"\u001b[0m\n"
      ]
     },
     "metadata": {},
     "output_type": "display_data"
    },
    {
     "data": {
      "text/html": [
       "<pre style=\"white-space:pre;overflow-x:auto;line-height:normal;font-family:Menlo,'DejaVu Sans Mono',consolas,'Courier New',monospace\">┏━━━━━━━━━━━━━━━━━━━━━━━━━━━━━━━━━┳━━━━━━━━━━━━━━━━━━━━━━━━┳━━━━━━━━━━━━━━━┓\n",
       "┃<span style=\"font-weight: bold\"> Layer (type)                    </span>┃<span style=\"font-weight: bold\"> Output Shape           </span>┃<span style=\"font-weight: bold\">       Param # </span>┃\n",
       "┡━━━━━━━━━━━━━━━━━━━━━━━━━━━━━━━━━╇━━━━━━━━━━━━━━━━━━━━━━━━╇━━━━━━━━━━━━━━━┩\n",
       "│ embedding (<span style=\"color: #0087ff; text-decoration-color: #0087ff\">Embedding</span>)           │ ?                      │   <span style=\"color: #00af00; text-decoration-color: #00af00\">0</span> (unbuilt) │\n",
       "├─────────────────────────────────┼────────────────────────┼───────────────┤\n",
       "│ global_average_pooling1d        │ ?                      │             <span style=\"color: #00af00; text-decoration-color: #00af00\">0</span> │\n",
       "│ (<span style=\"color: #0087ff; text-decoration-color: #0087ff\">GlobalAveragePooling1D</span>)        │                        │               │\n",
       "├─────────────────────────────────┼────────────────────────┼───────────────┤\n",
       "│ dense (<span style=\"color: #0087ff; text-decoration-color: #0087ff\">Dense</span>)                   │ ?                      │   <span style=\"color: #00af00; text-decoration-color: #00af00\">0</span> (unbuilt) │\n",
       "├─────────────────────────────────┼────────────────────────┼───────────────┤\n",
       "│ dense_1 (<span style=\"color: #0087ff; text-decoration-color: #0087ff\">Dense</span>)                 │ ?                      │   <span style=\"color: #00af00; text-decoration-color: #00af00\">0</span> (unbuilt) │\n",
       "└─────────────────────────────────┴────────────────────────┴───────────────┘\n",
       "</pre>\n"
      ],
      "text/plain": [
       "┏━━━━━━━━━━━━━━━━━━━━━━━━━━━━━━━━━┳━━━━━━━━━━━━━━━━━━━━━━━━┳━━━━━━━━━━━━━━━┓\n",
       "┃\u001b[1m \u001b[0m\u001b[1mLayer (type)                   \u001b[0m\u001b[1m \u001b[0m┃\u001b[1m \u001b[0m\u001b[1mOutput Shape          \u001b[0m\u001b[1m \u001b[0m┃\u001b[1m \u001b[0m\u001b[1m      Param #\u001b[0m\u001b[1m \u001b[0m┃\n",
       "┡━━━━━━━━━━━━━━━━━━━━━━━━━━━━━━━━━╇━━━━━━━━━━━━━━━━━━━━━━━━╇━━━━━━━━━━━━━━━┩\n",
       "│ embedding (\u001b[38;5;33mEmbedding\u001b[0m)           │ ?                      │   \u001b[38;5;34m0\u001b[0m (unbuilt) │\n",
       "├─────────────────────────────────┼────────────────────────┼───────────────┤\n",
       "│ global_average_pooling1d        │ ?                      │             \u001b[38;5;34m0\u001b[0m │\n",
       "│ (\u001b[38;5;33mGlobalAveragePooling1D\u001b[0m)        │                        │               │\n",
       "├─────────────────────────────────┼────────────────────────┼───────────────┤\n",
       "│ dense (\u001b[38;5;33mDense\u001b[0m)                   │ ?                      │   \u001b[38;5;34m0\u001b[0m (unbuilt) │\n",
       "├─────────────────────────────────┼────────────────────────┼───────────────┤\n",
       "│ dense_1 (\u001b[38;5;33mDense\u001b[0m)                 │ ?                      │   \u001b[38;5;34m0\u001b[0m (unbuilt) │\n",
       "└─────────────────────────────────┴────────────────────────┴───────────────┘\n"
      ]
     },
     "metadata": {},
     "output_type": "display_data"
    },
    {
     "data": {
      "text/html": [
       "<pre style=\"white-space:pre;overflow-x:auto;line-height:normal;font-family:Menlo,'DejaVu Sans Mono',consolas,'Courier New',monospace\"><span style=\"font-weight: bold\"> Total params: </span><span style=\"color: #00af00; text-decoration-color: #00af00\">0</span> (0.00 B)\n",
       "</pre>\n"
      ],
      "text/plain": [
       "\u001b[1m Total params: \u001b[0m\u001b[38;5;34m0\u001b[0m (0.00 B)\n"
      ]
     },
     "metadata": {},
     "output_type": "display_data"
    },
    {
     "data": {
      "text/html": [
       "<pre style=\"white-space:pre;overflow-x:auto;line-height:normal;font-family:Menlo,'DejaVu Sans Mono',consolas,'Courier New',monospace\"><span style=\"font-weight: bold\"> Trainable params: </span><span style=\"color: #00af00; text-decoration-color: #00af00\">0</span> (0.00 B)\n",
       "</pre>\n"
      ],
      "text/plain": [
       "\u001b[1m Trainable params: \u001b[0m\u001b[38;5;34m0\u001b[0m (0.00 B)\n"
      ]
     },
     "metadata": {},
     "output_type": "display_data"
    },
    {
     "data": {
      "text/html": [
       "<pre style=\"white-space:pre;overflow-x:auto;line-height:normal;font-family:Menlo,'DejaVu Sans Mono',consolas,'Courier New',monospace\"><span style=\"font-weight: bold\"> Non-trainable params: </span><span style=\"color: #00af00; text-decoration-color: #00af00\">0</span> (0.00 B)\n",
       "</pre>\n"
      ],
      "text/plain": [
       "\u001b[1m Non-trainable params: \u001b[0m\u001b[38;5;34m0\u001b[0m (0.00 B)\n"
      ]
     },
     "metadata": {},
     "output_type": "display_data"
    }
   ],
   "source": [
    "model.compile(loss='binary_crossentropy',optimizer='adam',metrics=['accuracy']) # Compilação\n",
    "model.summary()   "
   ]
  },
  {
   "cell_type": "code",
   "execution_count": 10,
   "metadata": {},
   "outputs": [
    {
     "name": "stdout",
     "output_type": "stream",
     "text": [
      "Epoch 1/30\n",
      "625/625 - 4s - 6ms/step - accuracy: 0.5711 - loss: 0.6765 - val_accuracy: 0.5794 - val_loss: 0.6425\n",
      "Epoch 2/30\n",
      "625/625 - 2s - 4ms/step - accuracy: 0.7387 - loss: 0.5484 - val_accuracy: 0.8071 - val_loss: 0.4650\n",
      "Epoch 3/30\n",
      "625/625 - 2s - 4ms/step - accuracy: 0.8167 - loss: 0.4175 - val_accuracy: 0.8281 - val_loss: 0.4028\n",
      "Epoch 4/30\n",
      "625/625 - 2s - 4ms/step - accuracy: 0.8480 - loss: 0.3551 - val_accuracy: 0.8320 - val_loss: 0.3825\n",
      "Epoch 5/30\n",
      "625/625 - 2s - 4ms/step - accuracy: 0.8682 - loss: 0.3154 - val_accuracy: 0.8505 - val_loss: 0.3565\n",
      "Epoch 6/30\n",
      "625/625 - 2s - 4ms/step - accuracy: 0.8798 - loss: 0.2894 - val_accuracy: 0.8514 - val_loss: 0.3491\n",
      "Epoch 7/30\n",
      "625/625 - 2s - 4ms/step - accuracy: 0.8882 - loss: 0.2682 - val_accuracy: 0.8338 - val_loss: 0.3635\n",
      "Epoch 8/30\n",
      "625/625 - 2s - 4ms/step - accuracy: 0.9003 - loss: 0.2440 - val_accuracy: 0.8478 - val_loss: 0.3536\n",
      "Epoch 9/30\n",
      "625/625 - 2s - 4ms/step - accuracy: 0.9091 - loss: 0.2253 - val_accuracy: 0.8419 - val_loss: 0.3671\n",
      "Epoch 10/30\n",
      "625/625 - 2s - 4ms/step - accuracy: 0.9194 - loss: 0.2042 - val_accuracy: 0.8547 - val_loss: 0.3489\n",
      "Epoch 11/30\n",
      "625/625 - 2s - 4ms/step - accuracy: 0.9247 - loss: 0.1945 - val_accuracy: 0.8214 - val_loss: 0.4313\n",
      "Epoch 12/30\n",
      "625/625 - 2s - 4ms/step - accuracy: 0.9257 - loss: 0.1856 - val_accuracy: 0.7810 - val_loss: 0.5900\n",
      "Epoch 13/30\n",
      "625/625 - 2s - 4ms/step - accuracy: 0.9294 - loss: 0.1792 - val_accuracy: 0.8533 - val_loss: 0.3635\n",
      "Epoch 14/30\n",
      "625/625 - 2s - 4ms/step - accuracy: 0.9390 - loss: 0.1598 - val_accuracy: 0.8545 - val_loss: 0.3723\n",
      "Epoch 15/30\n",
      "625/625 - 2s - 4ms/step - accuracy: 0.9363 - loss: 0.1597 - val_accuracy: 0.8492 - val_loss: 0.3869\n",
      "Epoch 16/30\n",
      "625/625 - 3s - 4ms/step - accuracy: 0.9390 - loss: 0.1571 - val_accuracy: 0.8483 - val_loss: 0.4022\n",
      "Epoch 17/30\n",
      "625/625 - 2s - 4ms/step - accuracy: 0.9450 - loss: 0.1444 - val_accuracy: 0.8451 - val_loss: 0.4069\n",
      "Epoch 18/30\n",
      "625/625 - 2s - 4ms/step - accuracy: 0.9439 - loss: 0.1425 - val_accuracy: 0.8499 - val_loss: 0.4135\n",
      "Epoch 19/30\n",
      "625/625 - 2s - 4ms/step - accuracy: 0.9422 - loss: 0.1424 - val_accuracy: 0.8281 - val_loss: 0.4720\n",
      "Epoch 20/30\n",
      "625/625 - 2s - 3ms/step - accuracy: 0.9526 - loss: 0.1272 - val_accuracy: 0.8462 - val_loss: 0.4368\n",
      "Epoch 21/30\n",
      "625/625 - 2s - 4ms/step - accuracy: 0.9467 - loss: 0.1352 - val_accuracy: 0.8185 - val_loss: 0.5333\n",
      "Epoch 22/30\n",
      "625/625 - 2s - 3ms/step - accuracy: 0.9530 - loss: 0.1247 - val_accuracy: 0.8337 - val_loss: 0.4889\n",
      "Epoch 23/30\n",
      "625/625 - 2s - 4ms/step - accuracy: 0.9533 - loss: 0.1245 - val_accuracy: 0.8454 - val_loss: 0.4555\n",
      "Epoch 24/30\n",
      "625/625 - 3s - 5ms/step - accuracy: 0.9582 - loss: 0.1115 - val_accuracy: 0.8341 - val_loss: 0.4885\n",
      "Epoch 25/30\n",
      "625/625 - 2s - 4ms/step - accuracy: 0.9578 - loss: 0.1103 - val_accuracy: 0.8407 - val_loss: 0.4859\n",
      "Epoch 26/30\n",
      "625/625 - 3s - 4ms/step - accuracy: 0.9636 - loss: 0.1025 - val_accuracy: 0.7840 - val_loss: 0.7717\n",
      "Epoch 27/30\n",
      "625/625 - 3s - 4ms/step - accuracy: 0.9609 - loss: 0.1053 - val_accuracy: 0.8425 - val_loss: 0.4978\n",
      "Epoch 28/30\n",
      "625/625 - 3s - 4ms/step - accuracy: 0.9625 - loss: 0.1001 - val_accuracy: 0.8338 - val_loss: 0.5460\n",
      "Epoch 29/30\n",
      "625/625 - 3s - 4ms/step - accuracy: 0.9607 - loss: 0.1017 - val_accuracy: 0.7885 - val_loss: 0.7364\n",
      "Epoch 30/30\n",
      "625/625 - 3s - 4ms/step - accuracy: 0.9645 - loss: 0.0958 - val_accuracy: 0.8401 - val_loss: 0.5293\n"
     ]
    }
   ],
   "source": [
    "num_epochs = 30 # número de epocas\n",
    "history = model.fit(training_padded, training_labels, epochs=num_epochs, validation_data=(testing_padded, testing_labels), verbose=2)"
   ]
  },
  {
   "cell_type": "code",
   "execution_count": 11,
   "metadata": {},
   "outputs": [
    {
     "name": "stdout",
     "output_type": "stream",
     "text": [
      "\u001b[1m1/1\u001b[0m \u001b[32m━━━━━━━━━━━━━━━━━━━━\u001b[0m\u001b[37m\u001b[0m \u001b[1m0s\u001b[0m 156ms/step\n",
      "[[0.9841677 ]\n",
      " [0.00323261]]\n"
     ]
    }
   ],
   "source": [
    "sentence = [       # Frases para teste\n",
    "    \"granny starting to fear spiders in the garden migth be real\",\n",
    "    \"the weather today is brigth and sunny\"\n",
    "]\n",
    "sequence = tokenizer.texts_to_sequences(sentence) # Tornando a frase em sequencias de palavras\n",
    "padded= pad_sequences(sequence, maxlen=max_length, padding=padding_type,truncating=trunc_type) # Deixando todas do mesmo tamanho\n",
    "print(model.predict(padded)) # Predicao"
   ]
  }
 ],
 "metadata": {
  "kernelspec": {
   "display_name": "Python 3",
   "language": "python",
   "name": "python3"
  },
  "language_info": {
   "codemirror_mode": {
    "name": "ipython",
    "version": 3
   },
   "file_extension": ".py",
   "mimetype": "text/x-python",
   "name": "python",
   "nbconvert_exporter": "python",
   "pygments_lexer": "ipython3",
   "version": "3.11.9"
  }
 },
 "nbformat": 4,
 "nbformat_minor": 4
}
