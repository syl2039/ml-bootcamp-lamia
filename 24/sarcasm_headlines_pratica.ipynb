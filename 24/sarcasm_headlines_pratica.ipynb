{
 "cells": [
  {
   "cell_type": "code",
   "execution_count": 1,
   "metadata": {},
   "outputs": [],
   "source": [
    "# Importações necessárias\n",
    "import json\n",
    "from tensorflow.keras.preprocessing.text import Tokenizer\n",
    "from tensorflow.keras.preprocessing.sequence import pad_sequences\n",
    "import numpy as np\n",
    "import tensorflow as tf"
   ]
  },
  {
   "cell_type": "code",
   "execution_count": 2,
   "metadata": {},
   "outputs": [],
   "source": [
    "# Carregamento do arquivoo\n",
    "with open (\"Sarcasm_Headlines_Dataset.json\", 'r') as f:\n",
    "    datastore = json.load(f)"
   ]
  },
  {
   "cell_type": "code",
   "execution_count": 3,
   "metadata": {},
   "outputs": [],
   "source": [
    "# Constantes\n",
    "vocab_size = 10000\n",
    "embedding_dim = 16\n",
    "max_length = 100\n",
    "trunc_type='post'\n",
    "padding_type='post'\n",
    "oov_tok = \"<OOV>\"\n",
    "training_size = 20000"
   ]
  },
  {
   "cell_type": "code",
   "execution_count": 4,
   "metadata": {},
   "outputs": [],
   "source": [
    "# Listas vazias\n",
    "sentences = []\n",
    "labels = []\n",
    "\n",
    "# Percorre o arquivo e vai preenchendo as listas\n",
    "for item in datastore:\n",
    "    sentences.append(item['headline']) # Adiciona a lista\n",
    "    labels.append(item['is_sarcastic']) # Adiciona a lista"
   ]
  },
  {
   "cell_type": "code",
   "execution_count": 5,
   "metadata": {},
   "outputs": [],
   "source": [
    "training_sentences = sentences[0:training_size] # frases para treinamento\n",
    "testing_sentences = sentences[training_size:] # frases para teste\n",
    "training_labels = labels[0:training_size] # labels para treinamento\n",
    "testing_labels = labels[training_size:] # labels para teste"
   ]
  },
  {
   "cell_type": "code",
   "execution_count": 6,
   "metadata": {},
   "outputs": [],
   "source": [
    "tokenizer = Tokenizer(num_words=vocab_size, oov_token=oov_tok)\n",
    "tokenizer.fit_on_texts(training_sentences)\n",
    "\n",
    "word_index = tokenizer.word_index\n",
    "\n",
    "training_sequences = tokenizer.texts_to_sequences(training_sentences) # Atribuindo o tokenizer\n",
    "training_padded = pad_sequences(training_sequences, maxlen=max_length, padding=padding_type, truncating=trunc_type) # Adiciona os zeros para todas ficarem  com o mesmo tamanho\n",
    "\n",
    "testing_sequences = tokenizer.texts_to_sequences(testing_sentences) # Atribuindo o tokenizer\n",
    "testing_padded = pad_sequences(testing_sequences, maxlen=max_length, padding=padding_type, truncating=trunc_type) # Adiciona os zeros para todas ficarem  com o mesmo tamanho\n"
   ]
  },
  {
   "cell_type": "code",
   "execution_count": 7,
   "metadata": {},
   "outputs": [],
   "source": [
    "# Transformação para que fique compatível com o tensorflow\n",
    "training_labels = np.array(training_labels)\n",
    "testing_labels = np.array(testing_labels)\n",
    "training_padded = np.array(training_padded)\n",
    "testing_padded = np.array(testing_padded)"
   ]
  },
  {
   "cell_type": "code",
   "execution_count": 8,
   "metadata": {},
   "outputs": [
    {
     "name": "stderr",
     "output_type": "stream",
     "text": [
      "C:\\Users\\Fernando Buligon\\AppData\\Local\\Packages\\PythonSoftwareFoundation.Python.3.11_qbz5n2kfra8p0\\LocalCache\\local-packages\\Python311\\site-packages\\keras\\src\\layers\\core\\embedding.py:90: UserWarning: Argument `input_length` is deprecated. Just remove it.\n",
      "  warnings.warn(\n"
     ]
    }
   ],
   "source": [
    "# Criação do modelo\n",
    "model = tf.keras.Sequential([\n",
    "    tf.keras.layers.Embedding(vocab_size, embedding_dim, input_length=max_length), \n",
    "    tf.keras.layers.GlobalAveragePooling1D(),  \n",
    "    tf.keras.layers.Dense(128, activation='relu'), \n",
    "    tf.keras.layers.Dropout(0.2),\n",
    "    tf.keras.layers.Dense(64, activation='relu'),  \n",
    "    tf.keras.layers.Dropout(0.2), \n",
    "    tf.keras.layers.Dense(24, activation='relu'),  \n",
    "    tf.keras.layers.Dense(1, activation='sigmoid')\n",
    "])"
   ]
  },
  {
   "cell_type": "code",
   "execution_count": 9,
   "metadata": {},
   "outputs": [],
   "source": [
    "model.compile(loss='binary_crossentropy',optimizer='adam',metrics=['accuracy']) # Compilação"
   ]
  },
  {
   "cell_type": "code",
   "execution_count": 10,
   "metadata": {},
   "outputs": [
    {
     "name": "stdout",
     "output_type": "stream",
     "text": [
      "Epoch 1/20\n",
      "625/625 - 9s - 14ms/step - accuracy: 0.5903 - loss: 0.6627 - val_accuracy: 0.7953 - val_loss: 0.4813\n",
      "Epoch 2/20\n",
      "625/625 - 3s - 5ms/step - accuracy: 0.8025 - loss: 0.4267 - val_accuracy: 0.8243 - val_loss: 0.3899\n",
      "Epoch 3/20\n",
      "625/625 - 3s - 5ms/step - accuracy: 0.8451 - loss: 0.3548 - val_accuracy: 0.8004 - val_loss: 0.4113\n",
      "Epoch 4/20\n",
      "625/625 - 3s - 5ms/step - accuracy: 0.8691 - loss: 0.3104 - val_accuracy: 0.8220 - val_loss: 0.4053\n",
      "Epoch 5/20\n",
      "625/625 - 3s - 5ms/step - accuracy: 0.8863 - loss: 0.2787 - val_accuracy: 0.8553 - val_loss: 0.3489\n",
      "Epoch 6/20\n",
      "625/625 - 3s - 5ms/step - accuracy: 0.8995 - loss: 0.2467 - val_accuracy: 0.8478 - val_loss: 0.3500\n",
      "Epoch 7/20\n",
      "625/625 - 3s - 5ms/step - accuracy: 0.9056 - loss: 0.2329 - val_accuracy: 0.8517 - val_loss: 0.3398\n",
      "Epoch 8/20\n",
      "625/625 - 3s - 5ms/step - accuracy: 0.9103 - loss: 0.2220 - val_accuracy: 0.8310 - val_loss: 0.4057\n",
      "Epoch 9/20\n",
      "625/625 - 3s - 5ms/step - accuracy: 0.9207 - loss: 0.2020 - val_accuracy: 0.8457 - val_loss: 0.3810\n",
      "Epoch 10/20\n",
      "625/625 - 3s - 5ms/step - accuracy: 0.9178 - loss: 0.2113 - val_accuracy: 0.8501 - val_loss: 0.3614\n",
      "Epoch 11/20\n",
      "625/625 - 3s - 5ms/step - accuracy: 0.9240 - loss: 0.1942 - val_accuracy: 0.8506 - val_loss: 0.3650\n",
      "Epoch 12/20\n",
      "625/625 - 3s - 5ms/step - accuracy: 0.9224 - loss: 0.1888 - val_accuracy: 0.8441 - val_loss: 0.3686\n",
      "Epoch 13/20\n",
      "625/625 - 3s - 5ms/step - accuracy: 0.9337 - loss: 0.1692 - val_accuracy: 0.8426 - val_loss: 0.4078\n",
      "Epoch 14/20\n",
      "625/625 - 3s - 5ms/step - accuracy: 0.9372 - loss: 0.1610 - val_accuracy: 0.8505 - val_loss: 0.3985\n",
      "Epoch 15/20\n",
      "625/625 - 3s - 5ms/step - accuracy: 0.9350 - loss: 0.1642 - val_accuracy: 0.8168 - val_loss: 0.5555\n",
      "Epoch 16/20\n",
      "625/625 - 3s - 5ms/step - accuracy: 0.9380 - loss: 0.1629 - val_accuracy: 0.8468 - val_loss: 0.4092\n",
      "Epoch 17/20\n",
      "625/625 - 3s - 5ms/step - accuracy: 0.9456 - loss: 0.1429 - val_accuracy: 0.8459 - val_loss: 0.3883\n",
      "Epoch 18/20\n",
      "625/625 - 3s - 5ms/step - accuracy: 0.9446 - loss: 0.1477 - val_accuracy: 0.8101 - val_loss: 0.4928\n",
      "Epoch 19/20\n",
      "625/625 - 3s - 5ms/step - accuracy: 0.9467 - loss: 0.1403 - val_accuracy: 0.8407 - val_loss: 0.4854\n",
      "Epoch 20/20\n",
      "625/625 - 3s - 4ms/step - accuracy: 0.9464 - loss: 0.1368 - val_accuracy: 0.7795 - val_loss: 0.7459\n"
     ]
    }
   ],
   "source": [
    "num_epochs = 20 # número de epocas\n",
    "history = model.fit(training_padded, training_labels, epochs=num_epochs, validation_data=(testing_padded, testing_labels), verbose=2)"
   ]
  },
  {
   "cell_type": "code",
   "execution_count": 11,
   "metadata": {},
   "outputs": [
    {
     "name": "stdout",
     "output_type": "stream",
     "text": [
      "\u001b[1m1/1\u001b[0m \u001b[32m━━━━━━━━━━━━━━━━━━━━\u001b[0m\u001b[37m\u001b[0m \u001b[1m0s\u001b[0m 169ms/step\n",
      "[[0.9975208 ]\n",
      " [0.02571205]]\n"
     ]
    }
   ],
   "source": [
    "# Foi possível chegar a um resultado melhor com uma redução 33% no número de épocas \n",
    "sentence = [       # Frases para teste\n",
    "    \"granny starting to fear spiders in the garden migth be real\",\n",
    "    \"the weather today is brigth and sunny\"\n",
    "]\n",
    "sequence = tokenizer.texts_to_sequences(sentence) # Tornando a frase em sequencias de palavras\n",
    "padded= pad_sequences(sequence, maxlen=max_length, padding=padding_type,truncating=trunc_type) # Deixando todas do mesmo tamanho\n",
    "print(model.predict(padded)) # Predicao"
   ]
  },
  {
   "cell_type": "code",
   "execution_count": null,
   "metadata": {},
   "outputs": [],
   "source": []
  }
 ],
 "metadata": {
  "kernelspec": {
   "display_name": "Python 3",
   "language": "python",
   "name": "python3"
  },
  "language_info": {
   "codemirror_mode": {
    "name": "ipython",
    "version": 3
   },
   "file_extension": ".py",
   "mimetype": "text/x-python",
   "name": "python",
   "nbconvert_exporter": "python",
   "pygments_lexer": "ipython3",
   "version": "3.11.9"
  }
 },
 "nbformat": 4,
 "nbformat_minor": 2
}
